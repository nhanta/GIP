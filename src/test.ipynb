{
 "cells": [
  {
   "cell_type": "code",
   "execution_count": 1,
   "metadata": {},
   "outputs": [],
   "source": [
    "import numpy as np\n",
    "import pandas as pd\n",
    "import os"
   ]
  },
  {
   "cell_type": "code",
   "execution_count": 2,
   "metadata": {},
   "outputs": [],
   "source": [
    "os.chdir(\"/work/users/minhnth/projects/GIP/\")"
   ]
  },
  {
   "cell_type": "code",
   "execution_count": 3,
   "metadata": {},
   "outputs": [],
   "source": [
    "# Read a vcf file\n",
    "def read_vcf(vcf_path):\n",
    "    with open(vcf_path, \"rt\") as ifile:\n",
    "          for line in ifile:\n",
    "            if line.startswith(\"#CHROM\"):\n",
    "                  vcf_names = [x for x in line.split('\\t')]\n",
    "                  break\n",
    "    ifile.close()\n",
    "    data = pd.read_csv(vcf_path, comment='#', sep=\"\\s+\", header=None, names=vcf_names)\n",
    "    return data\n",
    "def get_data(X, miss_rate):\n",
    "    # Parameters\n",
    "    no, dim = X.shape\n",
    "\n",
    "    # Introduce missing data\n",
    "    data_m = binary_sampler(1-miss_rate, no, dim)\n",
    "    miss_data_x = X.copy()\n",
    "    miss_data_x[data_m == 0] = \".|.\"\n",
    "    return X, miss_data_x, data_m"
   ]
  },
  {
   "cell_type": "code",
   "execution_count": 4,
   "metadata": {},
   "outputs": [],
   "source": [
    "# Load original data\n",
    "vcf_path =  \"data/HLA/HLA1_chr6.vcf\"\n",
    "rate = 0.2\n",
    "data = read_vcf(vcf_path)\n",
    "geno = data.iloc[:, 9::]\n",
    "geno.rename(columns={'NA21144\\n':'NA21144'}, inplace=True)"
   ]
  },
  {
   "cell_type": "code",
   "execution_count": 5,
   "metadata": {},
   "outputs": [
    {
     "data": {
      "text/html": [
       "<div>\n",
       "<style scoped>\n",
       "    .dataframe tbody tr th:only-of-type {\n",
       "        vertical-align: middle;\n",
       "    }\n",
       "\n",
       "    .dataframe tbody tr th {\n",
       "        vertical-align: top;\n",
       "    }\n",
       "\n",
       "    .dataframe thead th {\n",
       "        text-align: right;\n",
       "    }\n",
       "</style>\n",
       "<table border=\"1\" class=\"dataframe\">\n",
       "  <thead>\n",
       "    <tr style=\"text-align: right;\">\n",
       "      <th></th>\n",
       "      <th>HG00096</th>\n",
       "      <th>HG00097</th>\n",
       "      <th>HG00099</th>\n",
       "      <th>HG00100</th>\n",
       "      <th>HG00101</th>\n",
       "      <th>HG00102</th>\n",
       "      <th>HG00103</th>\n",
       "      <th>HG00105</th>\n",
       "      <th>HG00106</th>\n",
       "      <th>HG00107</th>\n",
       "      <th>...</th>\n",
       "      <th>NA21128</th>\n",
       "      <th>NA21129</th>\n",
       "      <th>NA21130</th>\n",
       "      <th>NA21133</th>\n",
       "      <th>NA21135</th>\n",
       "      <th>NA21137</th>\n",
       "      <th>NA21141</th>\n",
       "      <th>NA21142</th>\n",
       "      <th>NA21143</th>\n",
       "      <th>NA21144</th>\n",
       "    </tr>\n",
       "  </thead>\n",
       "  <tbody>\n",
       "    <tr>\n",
       "      <th>0</th>\n",
       "      <td>0|0</td>\n",
       "      <td>0|0</td>\n",
       "      <td>0|0</td>\n",
       "      <td>0|0</td>\n",
       "      <td>0|0</td>\n",
       "      <td>0|0</td>\n",
       "      <td>0|0</td>\n",
       "      <td>0|0</td>\n",
       "      <td>0|0</td>\n",
       "      <td>0|0</td>\n",
       "      <td>...</td>\n",
       "      <td>0|0</td>\n",
       "      <td>0|0</td>\n",
       "      <td>0|0</td>\n",
       "      <td>0|0</td>\n",
       "      <td>0|0</td>\n",
       "      <td>0|0</td>\n",
       "      <td>0|0</td>\n",
       "      <td>0|0</td>\n",
       "      <td>0|0</td>\n",
       "      <td>0|0</td>\n",
       "    </tr>\n",
       "    <tr>\n",
       "      <th>1</th>\n",
       "      <td>0|0</td>\n",
       "      <td>0|0</td>\n",
       "      <td>0|0</td>\n",
       "      <td>0|0</td>\n",
       "      <td>0|0</td>\n",
       "      <td>0|0</td>\n",
       "      <td>0|0</td>\n",
       "      <td>0|0</td>\n",
       "      <td>0|0</td>\n",
       "      <td>0|0</td>\n",
       "      <td>...</td>\n",
       "      <td>0|0</td>\n",
       "      <td>0|0</td>\n",
       "      <td>0|0</td>\n",
       "      <td>0|0</td>\n",
       "      <td>0|0</td>\n",
       "      <td>0|0</td>\n",
       "      <td>0|1</td>\n",
       "      <td>0|0</td>\n",
       "      <td>0|0</td>\n",
       "      <td>0|0</td>\n",
       "    </tr>\n",
       "    <tr>\n",
       "      <th>2</th>\n",
       "      <td>0|0</td>\n",
       "      <td>0|0</td>\n",
       "      <td>0|0</td>\n",
       "      <td>0|0</td>\n",
       "      <td>0|0</td>\n",
       "      <td>0|0</td>\n",
       "      <td>0|0</td>\n",
       "      <td>0|0</td>\n",
       "      <td>0|0</td>\n",
       "      <td>0|0</td>\n",
       "      <td>...</td>\n",
       "      <td>0|0</td>\n",
       "      <td>0|0</td>\n",
       "      <td>0|0</td>\n",
       "      <td>0|0</td>\n",
       "      <td>0|0</td>\n",
       "      <td>0|0</td>\n",
       "      <td>0|0</td>\n",
       "      <td>0|0</td>\n",
       "      <td>0|0</td>\n",
       "      <td>0|0</td>\n",
       "    </tr>\n",
       "    <tr>\n",
       "      <th>3</th>\n",
       "      <td>0|0</td>\n",
       "      <td>0|0</td>\n",
       "      <td>0|0</td>\n",
       "      <td>0|0</td>\n",
       "      <td>0|0</td>\n",
       "      <td>0|0</td>\n",
       "      <td>0|0</td>\n",
       "      <td>0|0</td>\n",
       "      <td>0|0</td>\n",
       "      <td>0|0</td>\n",
       "      <td>...</td>\n",
       "      <td>0|0</td>\n",
       "      <td>0|0</td>\n",
       "      <td>0|0</td>\n",
       "      <td>0|0</td>\n",
       "      <td>0|0</td>\n",
       "      <td>0|0</td>\n",
       "      <td>0|0</td>\n",
       "      <td>0|0</td>\n",
       "      <td>0|0</td>\n",
       "      <td>0|0</td>\n",
       "    </tr>\n",
       "    <tr>\n",
       "      <th>4</th>\n",
       "      <td>0|0</td>\n",
       "      <td>0|0</td>\n",
       "      <td>0|0</td>\n",
       "      <td>0|0</td>\n",
       "      <td>0|0</td>\n",
       "      <td>0|0</td>\n",
       "      <td>0|0</td>\n",
       "      <td>0|0</td>\n",
       "      <td>0|0</td>\n",
       "      <td>0|0</td>\n",
       "      <td>...</td>\n",
       "      <td>0|0</td>\n",
       "      <td>0|0</td>\n",
       "      <td>0|0</td>\n",
       "      <td>0|0</td>\n",
       "      <td>0|0</td>\n",
       "      <td>0|0</td>\n",
       "      <td>0|0</td>\n",
       "      <td>0|0</td>\n",
       "      <td>0|0</td>\n",
       "      <td>0|0</td>\n",
       "    </tr>\n",
       "  </tbody>\n",
       "</table>\n",
       "<p>5 rows × 2504 columns</p>\n",
       "</div>"
      ],
      "text/plain": [
       "  HG00096 HG00097 HG00099 HG00100 HG00101 HG00102 HG00103 HG00105 HG00106  \\\n",
       "0     0|0     0|0     0|0     0|0     0|0     0|0     0|0     0|0     0|0   \n",
       "1     0|0     0|0     0|0     0|0     0|0     0|0     0|0     0|0     0|0   \n",
       "2     0|0     0|0     0|0     0|0     0|0     0|0     0|0     0|0     0|0   \n",
       "3     0|0     0|0     0|0     0|0     0|0     0|0     0|0     0|0     0|0   \n",
       "4     0|0     0|0     0|0     0|0     0|0     0|0     0|0     0|0     0|0   \n",
       "\n",
       "  HG00107  ... NA21128 NA21129 NA21130 NA21133 NA21135 NA21137 NA21141  \\\n",
       "0     0|0  ...     0|0     0|0     0|0     0|0     0|0     0|0     0|0   \n",
       "1     0|0  ...     0|0     0|0     0|0     0|0     0|0     0|0     0|1   \n",
       "2     0|0  ...     0|0     0|0     0|0     0|0     0|0     0|0     0|0   \n",
       "3     0|0  ...     0|0     0|0     0|0     0|0     0|0     0|0     0|0   \n",
       "4     0|0  ...     0|0     0|0     0|0     0|0     0|0     0|0     0|0   \n",
       "\n",
       "  NA21142 NA21143 NA21144  \n",
       "0     0|0     0|0     0|0  \n",
       "1     0|0     0|0     0|0  \n",
       "2     0|0     0|0     0|0  \n",
       "3     0|0     0|0     0|0  \n",
       "4     0|0     0|0     0|0  \n",
       "\n",
       "[5 rows x 2504 columns]"
      ]
     },
     "execution_count": 5,
     "metadata": {},
     "output_type": "execute_result"
    }
   ],
   "source": [
    "geno.head()"
   ]
  },
  {
   "cell_type": "code",
   "execution_count": 9,
   "metadata": {},
   "outputs": [],
   "source": [
    "meta_data = pd.read_csv(\"data/HLA/igsr-1000 genomes on grch38.tsv\", sep = \"\\t\")"
   ]
  },
  {
   "cell_type": "code",
   "execution_count": 16,
   "metadata": {},
   "outputs": [
    {
     "data": {
      "text/plain": [
       "array(['AFR', 'AMR', 'EAS', 'EUR', 'EUR,AFR', 'SAS'], dtype='<U7')"
      ]
     },
     "execution_count": 16,
     "metadata": {},
     "output_type": "execute_result"
    }
   ],
   "source": [
    "np.unique(list(meta_data[\"Superpopulation code\"]))"
   ]
  },
  {
   "cell_type": "code",
   "execution_count": 17,
   "metadata": {},
   "outputs": [],
   "source": [
    "AFR = meta_data[meta_data[\"Superpopulation code\"] == 'AFR']\n",
    "AMR = meta_data[meta_data[\"Superpopulation code\"] == 'AMR']\n",
    "EAS = meta_data[meta_data[\"Superpopulation code\"] == 'EAS']\n",
    "EUR = meta_data[meta_data[\"Superpopulation code\"] == 'EUR']\n",
    "SAS = meta_data[meta_data[\"Superpopulation code\"] == 'SAS']"
   ]
  },
  {
   "cell_type": "code",
   "execution_count": 7,
   "metadata": {},
   "outputs": [
    {
     "ename": "NameError",
     "evalue": "name 'new_meta' is not defined",
     "output_type": "error",
     "traceback": [
      "\u001b[0;31m---------------------------------------------------------------------------\u001b[0m",
      "\u001b[0;31mNameError\u001b[0m                                 Traceback (most recent call last)",
      "Cell \u001b[0;32mIn[7], line 1\u001b[0m\n\u001b[0;32m----> 1\u001b[0m \u001b[43mnew_meta\u001b[49m\u001b[38;5;241m.\u001b[39mhead()\n",
      "\u001b[0;31mNameError\u001b[0m: name 'new_meta' is not defined"
     ]
    }
   ],
   "source": [
    "new_meta.head()"
   ]
  },
  {
   "cell_type": "code",
   "execution_count": null,
   "metadata": {},
   "outputs": [],
   "source": [
    "geno, geno_miss, m = get_data(geno, rate)\n",
    "gn = pd.concat([data.iloc[:, 0:9], geno_miss], axis = 1)"
   ]
  }
 ],
 "metadata": {
  "kernelspec": {
   "display_name": "imputation",
   "language": "python",
   "name": "python3"
  },
  "language_info": {
   "codemirror_mode": {
    "name": "ipython",
    "version": 3
   },
   "file_extension": ".py",
   "mimetype": "text/x-python",
   "name": "python",
   "nbconvert_exporter": "python",
   "pygments_lexer": "ipython3",
   "version": "3.8.8"
  }
 },
 "nbformat": 4,
 "nbformat_minor": 2
}
